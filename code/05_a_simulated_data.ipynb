{
 "cells": [
  {
   "cell_type": "markdown",
   "id": "475819a4-e148-4616-b1cb-44b659aeb08a",
   "metadata": {},
   "source": [
    "<img src=\"http://hilpisch.com/tpq_logo.png\" alt=\"The Python Quants\" width=\"35%\" align=\"right\" border=\"0\"><br>"
   ]
  },
  {
   "cell_type": "markdown",
   "id": "f7365247-4323-4fa0-9fb8-cb9b5f4b5ca9",
   "metadata": {},
   "source": [
    "# AI in Finance"
   ]
  },
  {
   "cell_type": "markdown",
   "id": "0c57caa0-bd6d-48d3-9e1f-efa9ecbe11fd",
   "metadata": {},
   "source": [
    "**Workshop at Texas State University (October 2023)**\n",
    "\n",
    "**_Simulating Financial Time Series Data_**\n",
    "\n",
    "Dr. Yves J. Hilpisch | The Python Quants GmbH | http://tpq.io"
   ]
  },
  {
   "cell_type": "markdown",
   "id": "02e220a6-7335-45d4-af04-744e67fc3066",
   "metadata": {},
   "source": [
    "## Generated Data"
   ]
  },
  {
   "cell_type": "markdown",
   "id": "d6be6f8b-e00e-402c-9df1-1d3f16e76c7e",
   "metadata": {},
   "source": [
    "### Noisy Data"
   ]
  },
  {
   "cell_type": "code",
   "execution_count": null,
   "id": "cb33cd0c-4fb1-4456-911f-0d92597db8c0",
   "metadata": {},
   "outputs": [],
   "source": [
    "class ActionSpace:\n",
    "    def sample(self):\n",
    "        return random.randint(0, 1)"
   ]
  },
  {
   "cell_type": "code",
   "execution_count": null,
   "id": "f4df457f-9014-4e6a-878a-23645c77037d",
   "metadata": {},
   "outputs": [],
   "source": [
    "import numpy as np\n",
    "import pandas as pd\n",
    "from numpy.random import default_rng"
   ]
  },
  {
   "cell_type": "code",
   "execution_count": null,
   "id": "27fc1965-f838-4cb3-8d70-2e2266f3f7d7",
   "metadata": {},
   "outputs": [],
   "source": [
    "rng = default_rng()"
   ]
  },
  {
   "cell_type": "code",
   "execution_count": null,
   "id": "952353e1-8f39-48ac-ac6d-5a21b9a44315",
   "metadata": {},
   "outputs": [],
   "source": [
    "class NoisyData:\n",
    "    url = 'https://certificate.tpq.io/eod_prices.csv'\n",
    "    def __init__(self, symbol, feature, n_features=4,\n",
    "                 min_accuracy=0.485, noise=True,\n",
    "                 noise_std=0.001):\n",
    "        self.symbol = symbol\n",
    "        self.feature = feature\n",
    "        self.n_features = n_features\n",
    "        self.noise = noise\n",
    "        self.noise_std = noise_std\n",
    "        self.action_space = ActionSpace()\n",
    "        self.min_accuracy = min_accuracy\n",
    "        self._get_data()\n",
    "        self._prepare_data()\n",
    "    def _get_data(self):\n",
    "        self.raw = pd.read_csv(self.url,\n",
    "                index_col=0, parse_dates=True)"
   ]
  },
  {
   "cell_type": "code",
   "execution_count": null,
   "id": "69e1ed75-1e55-42f4-86a3-db54c60acf1f",
   "metadata": {},
   "outputs": [],
   "source": [
    "class NoisyData(NoisyData):\n",
    "    def _prepare_data(self):\n",
    "        self.data = pd.DataFrame(self.raw[self.symbol]).dropna()\n",
    "        if self.noise:\n",
    "            std = self.data.mean() * self.noise_std\n",
    "            self.data[self.symbol] = (self.data[self.symbol] +\n",
    "                rng.normal(0, std, len(self.data)))\n",
    "        self.data['r'] = np.log(self.data / self.data.shift(1))\n",
    "        self.data['d'] = np.where(self.data['r'] > 0, 1, 0)\n",
    "        self.data.dropna(inplace=True)\n",
    "        mi, ma = self.data.max(), self.data.min()\n",
    "        self.data_ = (self.data - mi) / (ma - mi)\n",
    "    def reset(self):\n",
    "        if self.noise:\n",
    "            self._prepare_data()\n",
    "        self.bar = self.n_features\n",
    "        self.treward = 0\n",
    "        state = self.data_[self.feature].iloc[\n",
    "            self.bar - self.n_features:self.bar].values\n",
    "        return state, {}"
   ]
  },
  {
   "cell_type": "code",
   "execution_count": null,
   "id": "a2b0ccc6-d8ec-4156-bf7a-30ba263fdde9",
   "metadata": {},
   "outputs": [],
   "source": [
    "class NoisyData(NoisyData):\n",
    "    def step(self, action):\n",
    "        if action == self.data['d'].iloc[self.bar]:\n",
    "            correct = True\n",
    "        else:\n",
    "            correct = False\n",
    "        reward = 1 if correct else 0 \n",
    "        self.treward += reward\n",
    "        self.bar += 1\n",
    "        self.accuracy = self.treward / (self.bar - self.n_features)\n",
    "        if self.bar >= len(self.data):\n",
    "            done = True\n",
    "        elif reward == 1:\n",
    "            done = False\n",
    "        elif (self.accuracy < self.min_accuracy and\n",
    "              self.bar > self.n_features + 15):\n",
    "            done = True\n",
    "        else:\n",
    "            done = False\n",
    "        next_state = self.data_[self.feature].iloc[\n",
    "            self.bar - self.n_features:self.bar].values\n",
    "        return next_state, reward, done, False, {}"
   ]
  },
  {
   "cell_type": "code",
   "execution_count": null,
   "id": "373a0a8c-3b85-4933-8de5-1103d4cc1a6b",
   "metadata": {},
   "outputs": [],
   "source": [
    "fin = NoisyData(symbol='AAPL', feature='AAPL',\n",
    "                noise=True, noise_std=0.005)"
   ]
  },
  {
   "cell_type": "code",
   "execution_count": null,
   "id": "ef1d9c32-3d42-49e6-8b87-db9287038dae",
   "metadata": {},
   "outputs": [],
   "source": [
    "fin.reset()"
   ]
  },
  {
   "cell_type": "code",
   "execution_count": null,
   "id": "a6239a19-edd1-479f-abae-53c5d91e91be",
   "metadata": {},
   "outputs": [],
   "source": [
    "fin.reset()"
   ]
  },
  {
   "cell_type": "code",
   "execution_count": null,
   "id": "c0a3b905-2eea-406f-9bee-bb61d6f5e463",
   "metadata": {},
   "outputs": [],
   "source": [
    "fin = NoisyData('AAPL', 'r', n_features=4,\n",
    "                noise=True, noise_std=0.025)"
   ]
  },
  {
   "cell_type": "code",
   "execution_count": null,
   "id": "c490647f-9757-46bf-911d-c53477d9b3d0",
   "metadata": {},
   "outputs": [],
   "source": [
    "fin.reset()"
   ]
  },
  {
   "cell_type": "code",
   "execution_count": null,
   "id": "94620793-e2bf-4644-bc6c-9abba7c650cf",
   "metadata": {},
   "outputs": [],
   "source": [
    "fin.reset()"
   ]
  },
  {
   "cell_type": "code",
   "execution_count": null,
   "id": "f6e60f02-fc2c-4e66-9b0a-720d44794425",
   "metadata": {},
   "outputs": [],
   "source": [
    "from pylab import plt, mpl\n",
    "plt.style.use('seaborn-v0_8')\n",
    "mpl.rcParams['figure.dpi'] = 300\n",
    "mpl.rcParams['savefig.dpi'] = 300\n",
    "mpl.rcParams['font.family'] = 'serif'"
   ]
  },
  {
   "cell_type": "code",
   "execution_count": null,
   "id": "a4c01838-aa4f-42d2-b98e-6cacf1008bc8",
   "metadata": {},
   "outputs": [],
   "source": [
    "for _ in range(5):\n",
    "    fin.reset()\n",
    "    fin.data[fin.symbol].loc['2023-7-1':].plot(lw=1)"
   ]
  },
  {
   "cell_type": "code",
   "execution_count": null,
   "id": "00a49e92-2dc8-44f6-bef3-84ee37b505d5",
   "metadata": {},
   "outputs": [],
   "source": [
    "for _ in range(5):\n",
    "    fin.reset()\n",
    "    fin.data[fin.symbol].plot(lw=1, alpha=0.5)"
   ]
  },
  {
   "cell_type": "markdown",
   "id": "74c852a4-28de-4823-9311-ae30d02aecf1",
   "metadata": {},
   "source": [
    "### Simulated Data"
   ]
  },
  {
   "cell_type": "code",
   "execution_count": null,
   "id": "f1bfed77-e7e6-42bc-aede-73653c3e39c9",
   "metadata": {},
   "outputs": [],
   "source": [
    "class Simulation:\n",
    "    def __init__(self, symbol, feature, n_features,\n",
    "                 start, end, periods,\n",
    "                 min_accuracy=0.525, x0=100,\n",
    "                 kappa=1, theta=100, sigma=0.2,\n",
    "                 normalize=True, new=False):\n",
    "        self.symbol = symbol\n",
    "        self.feature = feature\n",
    "        self.n_features = n_features\n",
    "        self.start = start\n",
    "        self.end = end\n",
    "        self.periods = periods\n",
    "        self.x0 = x0\n",
    "        self.kappa = kappa\n",
    "        self.theta = theta\n",
    "        self.sigma = sigma\n",
    "        self.min_accuracy = min_accuracy\n",
    "        self.normalize = normalize\n",
    "        self.new = new\n",
    "        self.action_space = ActionSpace()\n",
    "        self._simulate_data()\n",
    "        self._prepare_data()"
   ]
  },
  {
   "cell_type": "code",
   "execution_count": null,
   "id": "93c34b7d-e91b-4082-9762-0a98bd99916b",
   "metadata": {},
   "outputs": [],
   "source": [
    "import math\n",
    "import random\n",
    "class Simulation(Simulation):\n",
    "    def _simulate_data(self):\n",
    "        index = pd.date_range(start=self.start,\n",
    "                    end=self.end, periods=self.periods)\n",
    "        s = [self.x0]\n",
    "        dt = (index[-1] - index[0]).days / 365 / self.periods\n",
    "        for t in range(1, len(index)):\n",
    "            s_ = (s[t - 1] + self.kappa * (self.theta - s[t - 1]) * dt +\n",
    "                  s[t - 1] * self.sigma * math.sqrt(dt) * random.gauss(0, 1))\n",
    "            s.append(s_)\n",
    "        \n",
    "        self.data = pd.DataFrame(s, columns=[self.symbol], index=index)"
   ]
  },
  {
   "cell_type": "code",
   "execution_count": null,
   "id": "125153fb-7edc-4ffe-aff3-d87875fd2277",
   "metadata": {},
   "outputs": [],
   "source": [
    "class Simulation(Simulation):\n",
    "    def _prepare_data(self):\n",
    "        self.data['r'] = np.log(self.data / self.data.shift(1))\n",
    "        self.data.dropna(inplace=True)\n",
    "        if self.normalize:\n",
    "            self.mu = self.data.mean()\n",
    "            self.std = self.data.std()\n",
    "            self.data_ = (self.data - self.mu) / self.std\n",
    "        else:\n",
    "            self.data_ = self.data.copy()\n",
    "        self.data['d'] = np.where(self.data['r'] > 0, 1, 0)\n",
    "        self.data['d'] = self.data['d'].astype(int)"
   ]
  },
  {
   "cell_type": "code",
   "execution_count": null,
   "id": "9aa041d0-cec7-41cd-9717-4057b8a65cb3",
   "metadata": {},
   "outputs": [],
   "source": [
    "class Simulation(Simulation):\n",
    "    def _get_state(self):\n",
    "        return self.data_[self.feature].iloc[self.bar -\n",
    "                                self.n_features:self.bar]\n",
    "    #def seed(self, seed):\n",
    "    #    random.seed(seed)\n",
    "    #    np.random.seed(seed)\n",
    "    #    tf.random.set_random_seed(seed)\n",
    "    def reset(self):\n",
    "        self.treward = 0\n",
    "        self.accuracy = 0\n",
    "        self.bar = self.n_features\n",
    "        if self.new:\n",
    "            self._simulate_data()\n",
    "            self._prepare_data()\n",
    "        state = self._get_state()\n",
    "        return state.values, {}"
   ]
  },
  {
   "cell_type": "code",
   "execution_count": null,
   "id": "f111e718-5f7d-4f04-b509-5934815711b3",
   "metadata": {},
   "outputs": [],
   "source": [
    "class Simulation(Simulation):\n",
    "    def step(self, action):\n",
    "        if action == self.data['d'].iloc[self.bar]:\n",
    "            correct = True\n",
    "        else:\n",
    "            correct = False\n",
    "        reward = 1 if correct else 0 \n",
    "        self.treward += reward\n",
    "        self.bar += 1\n",
    "        self.accuracy = self.treward / (self.bar - self.n_features)\n",
    "        if self.bar >= len(self.data):\n",
    "            done = True\n",
    "        elif reward == 1:\n",
    "            done = False\n",
    "        elif (self.accuracy < self.min_accuracy and\n",
    "              self.bar > self.n_features + 15):\n",
    "            done = True\n",
    "        else:\n",
    "            done = False\n",
    "        next_state = self.data_[self.feature].iloc[\n",
    "            self.bar - self.n_features:self.bar].values\n",
    "        return next_state, reward, done, False, {}"
   ]
  },
  {
   "cell_type": "code",
   "execution_count": null,
   "id": "3978c284-ab0e-4f70-b415-088314324fa9",
   "metadata": {},
   "outputs": [],
   "source": [
    "sym = 'EUR='"
   ]
  },
  {
   "cell_type": "code",
   "execution_count": null,
   "id": "91d2ca8c-7d7b-4a7a-ba55-14cf2d3183ca",
   "metadata": {},
   "outputs": [],
   "source": [
    "env_base = Simulation(sym, sym, 5, start='2023-1-1', end='2024-1-1',\n",
    "                 periods=50, x0=1, kappa=1, theta=1.1, sigma=0.0,\n",
    "                 normalize=True)"
   ]
  },
  {
   "cell_type": "code",
   "execution_count": null,
   "id": "00d4f460-e31d-4e7e-9ccc-9bf100255a63",
   "metadata": {},
   "outputs": [],
   "source": [
    "env_trend = Simulation(sym, sym, 5, start='2023-1-1', end='2024-1-1',\n",
    "                 periods=50, x0=1, kappa=1, theta=2, sigma=0.1,\n",
    "                 normalize=True)"
   ]
  },
  {
   "cell_type": "code",
   "execution_count": null,
   "id": "bc924a45-6203-428f-9970-469c0f51d7be",
   "metadata": {},
   "outputs": [],
   "source": [
    "env_mrev = Simulation(sym, sym, 5, start='2023-1-1', end='2024-1-1',\n",
    "                 periods=50, x0=1, kappa=1, theta=1, sigma=0.1,\n",
    "                 normalize=True)"
   ]
  },
  {
   "cell_type": "code",
   "execution_count": null,
   "id": "47e281e5-69d6-4265-8f39-c25403967e54",
   "metadata": {},
   "outputs": [],
   "source": [
    "env_base.data[sym].plot(figsize=(10, 6),label='baseline')\n",
    "env_trend.data[sym].plot(label='trend', style='--')\n",
    "env_mrev.data[sym].plot(label='mean-reversion', style='-.')\n",
    "plt.legend();"
   ]
  },
  {
   "cell_type": "code",
   "execution_count": null,
   "id": "d3352144-c111-4137-92fe-d388dd9e1063",
   "metadata": {},
   "outputs": [],
   "source": [
    "sim = Simulation(sym, 'r', 4, start='2023-1-1', end='2028-1-1',\n",
    "                 periods=500, min_accuracy=0.6, x0=1,\n",
    "                 kappa=1.25, theta=2, sigma=0.15,\n",
    "                 normalize=True, new=True)"
   ]
  },
  {
   "cell_type": "code",
   "execution_count": null,
   "id": "4f1cb49b-e8b0-4d7e-9e13-da4c4724b0b0",
   "metadata": {},
   "outputs": [],
   "source": [
    "for _ in range(10):\n",
    "    sim.reset()\n",
    "    sim.data[sym].plot(figsize=(10, 6));"
   ]
  },
  {
   "cell_type": "markdown",
   "id": "20e3eaa7-ac35-44e5-bffc-93662c2d2c55",
   "metadata": {},
   "source": [
    "<img src=\"http://hilpisch.com/tpq_logo.png\" alt=\"The Python Quants\" width=\"35%\" align=\"right\" border=\"0\"><br>\n",
    "\n",
    "<a href=\"http://tpq.io\" target=\"_blank\">http://tpq.io</a> | <a href=\"http://twitter.com/dyjh\" target=\"_blank\">@dyjh</a> | <a href=\"mailto:team@tpq.io\">team@tpq.io</a>"
   ]
  }
 ],
 "metadata": {
  "kernelspec": {
   "display_name": "Python 3 (ipykernel)",
   "language": "python",
   "name": "python3"
  },
  "language_info": {
   "codemirror_mode": {
    "name": "ipython",
    "version": 3
   },
   "file_extension": ".py",
   "mimetype": "text/x-python",
   "name": "python",
   "nbconvert_exporter": "python",
   "pygments_lexer": "ipython3",
   "version": "3.10.12"
  }
 },
 "nbformat": 4,
 "nbformat_minor": 5
}
