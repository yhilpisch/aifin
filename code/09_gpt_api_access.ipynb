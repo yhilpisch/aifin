{
 "cells": [
  {
   "cell_type": "markdown",
   "metadata": {},
   "source": [
    "<img src=\"http://certificate.tpq.io/tpq_logo.png\" alt=\"The Python Quants\" width=\"35%\" align=\"right\" border=\"0\"><br>"
   ]
  },
  {
   "cell_type": "markdown",
   "metadata": {},
   "source": [
    "# AI in Finance"
   ]
  },
  {
   "cell_type": "markdown",
   "metadata": {},
   "source": [
    "**Workshop at Texas State University (October 2023)**\n",
    "\n",
    "**_GPT API Access_**\n",
    "\n",
    "Dr. Yves J. Hilpisch | The Python Quants GmbH | http://cpf.tpq.io"
   ]
  },
  {
   "cell_type": "markdown",
   "metadata": {},
   "source": [
    "## Imports"
   ]
  },
  {
   "cell_type": "code",
   "execution_count": 1,
   "metadata": {},
   "outputs": [],
   "source": [
    "import openai\n",
    "import numpy as np\n",
    "import pandas as pd"
   ]
  },
  {
   "cell_type": "code",
   "execution_count": 2,
   "metadata": {},
   "outputs": [],
   "source": [
    "%run ../creds.py"
   ]
  },
  {
   "cell_type": "code",
   "execution_count": 3,
   "metadata": {},
   "outputs": [],
   "source": [
    "# COMPLETIONS_MODEL = \"text-davinci-002\"\n",
    "# COMPLETIONS_MODEL = \"gpt-3.5-turbo\"\n",
    "COMPLETIONS_MODEL = \"gpt-4\""
   ]
  },
  {
   "cell_type": "code",
   "execution_count": 4,
   "metadata": {},
   "outputs": [],
   "source": [
    "openai.api_key = openai_key"
   ]
  },
  {
   "cell_type": "code",
   "execution_count": 5,
   "metadata": {},
   "outputs": [],
   "source": [
    "def ask_question(prompt):\n",
    "    answer = openai.ChatCompletion.create(\n",
    "        temperature=0,\n",
    "        max_tokens=500,\n",
    "        top_p=1,\n",
    "        frequency_penalty=0,\n",
    "        presence_penalty=0,\n",
    "        messages=[\n",
    "        {\"role\": \"system\", \"content\": \"You are an expert.\"},\n",
    "        {\"role\": \"user\", \"content\": prompt}\n",
    "    ],\n",
    "        model=COMPLETIONS_MODEL\n",
    "    )[\"choices\"][0]\n",
    "    print(answer['message']['content'])"
   ]
  },
  {
   "cell_type": "code",
   "execution_count": 6,
   "metadata": {},
   "outputs": [],
   "source": [
    "prompt = \"Summarize the life of Dr. Yves Hilpisch. Only include details that you are sure about.\""
   ]
  },
  {
   "cell_type": "code",
   "execution_count": 7,
   "metadata": {},
   "outputs": [
    {
     "name": "stdout",
     "output_type": "stream",
     "text": [
      "Dr. Yves Hilpisch is a renowned figure in the field of finance and technology, particularly known for his expertise in Python programming and its application in finance. He was born and raised in Germany.\n",
      "\n",
      "Dr. Hilpisch completed his undergraduate studies in Management and his Ph.D. in Mathematical Finance. He is the founder and managing partner of The Python Quants Group, a group dedicated to the use of open-source technologies for financial data science, artificial intelligence, algorithmic trading, and computational finance.\n",
      "\n",
      "He is also the author of several popular books in the field, including \"Python for Finance\", \"Derivatives Analytics with Python\" and \"Listed Volatility and Variance Derivatives\". These books have been instrumental in bridging the gap between finance and Python programming.\n",
      "\n",
      "Dr. Hilpisch is a frequent speaker at technology and finance conferences worldwide and has delivered keynotes and tutorials on the topic of Python for Finance. He has also conducted numerous training sessions and workshops on the subject.\n",
      "\n",
      "In addition to his work with The Python Quants Group, Dr. Hilpisch has also founded the For Python Quants conference series and the Certificate Program in Python for Algorithmic Trading.\n",
      "\n",
      "Despite his busy schedule, Dr. Hilpisch is also an active contributor to the open-source community and has developed several Python libraries related to finance.\n",
      "\n",
      "In summary, Dr. Yves Hilpisch is a leading figure in the intersection of finance and technology, with a particular focus on Python programming. His contributions to the field through his work, writings, and teachings have been significant and widely recognized.\n"
     ]
    }
   ],
   "source": [
    "ask_question(prompt)"
   ]
  },
  {
   "cell_type": "code",
   "execution_count": 8,
   "metadata": {},
   "outputs": [],
   "source": [
    "prompt = \"\"\"Can you summarize the life of Sandra Newedel-Hilpisch?\n",
    "\"\"\""
   ]
  },
  {
   "cell_type": "code",
   "execution_count": 9,
   "metadata": {},
   "outputs": [
    {
     "name": "stdout",
     "output_type": "stream",
     "text": [
      "I'm sorry, but I can't assist with that. Sandra Newedel-Hilpisch doesn't appear to be a widely recognized public figure, so there's no available information about her.\n"
     ]
    }
   ],
   "source": [
    "answer = ask_question(prompt)"
   ]
  },
  {
   "cell_type": "code",
   "execution_count": 10,
   "metadata": {},
   "outputs": [
    {
     "name": "stdout",
     "output_type": "stream",
     "text": [
      "Least-Squares Monte Carlo (LSMC) is a method used in option pricing to estimate the expected payoff of an option. This method is particularly useful for pricing American options, which can be exercised at any time before expiration, making them more complex to price than European options, which can only be exercised at expiration.\n",
      "\n",
      "The LSMC method involves simulating a large number of possible price paths for the underlying asset and then calculating the payoff of the option for each path. The payoffs are then discounted back to the present using a risk-free rate, and the average is taken to estimate the option price.\n",
      "\n",
      "The \"least-squares\" part of the method comes in when estimating the continuation value of the option, i.e., the value of holding the option for future periods. This is done by fitting a polynomial function to the simulated payoffs using least-squares regression, which minimizes the sum of the squared differences between the actual and estimated payoffs.\n",
      "\n",
      "This method allows for the incorporation of various sources of uncertainty and complex payoff structures, making it a flexible and powerful tool for option pricing. However, it can be computationally intensive due to the large number of simulations and the regression analysis required.\n"
     ]
    }
   ],
   "source": [
    "ask_question('What does Least-Squares Monte Carlo do in option pricing?')"
   ]
  },
  {
   "cell_type": "code",
   "execution_count": 11,
   "metadata": {},
   "outputs": [
    {
     "name": "stdout",
     "output_type": "stream",
     "text": [
      "Deep Q-learning is a type of reinforcement learning algorithm that uses a neural network to approximate the Q-value function. The Q-value function is used to determine the quality of an action in a given state, which is crucial for the agent to learn the optimal policy.\n",
      "\n",
      "TicTacToe, although a simple game, can be challenging to learn using deep Q-learning due to several reasons:\n",
      "\n",
      "1. **Exploration vs Exploitation Dilemma**: The agent needs to balance between exploring new actions and exploiting the actions that are known to yield good rewards. If the agent only exploits, it might miss out on potentially better actions. If it only explores, it might not make the best decisions.\n",
      "\n",
      "2. **Sparse Rewards**: In TicTacToe, the agent only gets a reward when it wins or loses the game. This can make it difficult for the agent to understand which actions were beneficial or detrimental.\n",
      "\n",
      "3. **Delayed Rewards**: The impact of an action in TicTacToe is not immediately apparent and can only be determined at the end of the game. This makes it hard for the agent to associate the reward with the correct action.\n",
      "\n",
      "4. **State Representation**: The state of the game in TicTacToe is discrete and not continuous. This can make it difficult for the neural network to generalize from one state to another.\n",
      "\n",
      "5. **Overfitting**: Deep Q-learning can easily overfit to the training data, meaning it might not generalize well to new, unseen states.\n",
      "\n",
      "6. **Non-Stationarity**: The Q-values are constantly changing during the training process, which can make the learning process unstable.\n",
      "\n",
      "Despite these challenges, with the right tweaks and adjustments, deep Q-learning can be used to effectively learn to play TicTacToe.\n"
     ]
    }
   ],
   "source": [
    "ask_question(\n",
    "'''\n",
    "Why is it so hard to learn TicTacToe with deep Q-learning?\n",
    "''')"
   ]
  },
  {
   "cell_type": "markdown",
   "metadata": {},
   "source": [
    "<img src='http://hilpisch.com/tpq_logo.png' width=\"35%\" align=\"right\">\n",
    "\n",
    "<br><br><a href=\"http://cpf.tpq.io\" target=\"_blank\">http://tpq.io</a> | <a href=\"http://twitter.com/dyjh\" target=\"_blank\">@dyjh</a> | <a href=\"mailto:team@tpq.io\">team@tpq.io</a>"
   ]
  }
 ],
 "metadata": {
  "kernelspec": {
   "display_name": "Python 3 (ipykernel)",
   "language": "python",
   "name": "python3"
  },
  "language_info": {
   "codemirror_mode": {
    "name": "ipython",
    "version": 3
   },
   "file_extension": ".py",
   "mimetype": "text/x-python",
   "name": "python",
   "nbconvert_exporter": "python",
   "pygments_lexer": "ipython3",
   "version": "3.10.12"
  }
 },
 "nbformat": 4,
 "nbformat_minor": 4
}
