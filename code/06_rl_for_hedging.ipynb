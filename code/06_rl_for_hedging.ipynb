{
 "cells": [
  {
   "cell_type": "markdown",
   "metadata": {},
   "source": [
    "<img src=\"http://certificate.tpq.io/tpq_logo.png\" alt=\"The Python Quants\" width=\"35%\" align=\"right\" border=\"0\"><br>"
   ]
  },
  {
   "cell_type": "markdown",
   "metadata": {},
   "source": [
    "# AI in Finance"
   ]
  },
  {
   "cell_type": "markdown",
   "metadata": {},
   "source": [
    "**Workshop at Texas State University (October 2023)**\n",
    "\n",
    "**_Reinforcement Learning for Hedging_**\n",
    "\n",
    "Dr. Yves J. Hilpisch | The Python Quants GmbH | http://tpq.io"
   ]
  },
  {
   "cell_type": "markdown",
   "metadata": {},
   "source": [
    "## Imports"
   ]
  },
  {
   "cell_type": "code",
   "execution_count": null,
   "metadata": {},
   "outputs": [],
   "source": [
    "import os\n",
    "import math\n",
    "import random\n",
    "import numpy as np\n",
    "import pandas as pd\n",
    "from pylab import plt, mpl\n",
    "from collections import deque\n",
    "plt.style.use('seaborn-v0_8')\n",
    "mpl.rcParams['figure.dpi'] = 300\n",
    "%config InlineBackend.figure_format = 'png'"
   ]
  },
  {
   "cell_type": "code",
   "execution_count": null,
   "metadata": {},
   "outputs": [],
   "source": [
    "import warnings as w\n",
    "w.simplefilter('ignore')"
   ]
  },
  {
   "cell_type": "markdown",
   "metadata": {},
   "source": [
    "## The Environment"
   ]
  },
  {
   "cell_type": "code",
   "execution_count": null,
   "metadata": {},
   "outputs": [],
   "source": [
    "from bsm import bsm_call_value\n",
    "from scipy.optimize import minimize"
   ]
  },
  {
   "cell_type": "code",
   "execution_count": null,
   "metadata": {},
   "outputs": [],
   "source": [
    "class observation_space:\n",
    "    def __init__(self, n):\n",
    "        self.shape = (n,)"
   ]
  },
  {
   "cell_type": "code",
   "execution_count": null,
   "metadata": {},
   "outputs": [],
   "source": [
    "class action_space:\n",
    "    def __init__(self, n):\n",
    "        self.n = n\n",
    "    def seed(self, seed):\n",
    "        random.seed(seed)\n",
    "    def sample(self):\n",
    "        return random.random()"
   ]
  },
  {
   "cell_type": "code",
   "execution_count": null,
   "metadata": {},
   "outputs": [],
   "source": [
    "class Hedging:\n",
    "    def __init__(self, symbol, S0, K_, T, r_, sigma_, steps):\n",
    "        self.symbol = symbol\n",
    "        self.initial_value = S0\n",
    "        self.strike_ = K_\n",
    "        self.maturity = pd.Timestamp(T)\n",
    "        self.short_rate_ = r_\n",
    "        self.volatility_ = sigma_\n",
    "        self.steps = steps\n",
    "        self.observation_space = observation_space(5)\n",
    "        self.osn = self.observation_space.shape[0]\n",
    "        self.action_space = action_space(1)\n",
    "        self._simulate_data()\n",
    "        self.portfolios = pd.DataFrame()\n",
    "        self.episode = 0\n",
    "    def _simulate_data(self):\n",
    "            s = [self.initial_value]\n",
    "            self.strike = random.choice(self.strike_)\n",
    "            self.short_rate = random.choice(self.short_rate_)\n",
    "            self.volatility = random.choice(self.volatility_)\n",
    "            self.dt = 1 / self.steps  # \"one year\" as the default assumption\n",
    "            for t in range(1, self.steps + 1):\n",
    "                s_ = s[t - 1] * math.exp(\n",
    "                    ((self.short_rate - 1 / 2 * self.volatility ** 2) * self.dt +\n",
    "                      self.volatility * math.sqrt(self.dt) * random.gauss(0, 1))\n",
    "                )\n",
    "                s.append(s_)\n",
    "            self.data = pd.DataFrame(s, columns=[self.symbol],\n",
    "                                    index=pd.date_range(start='2022-1-1',\n",
    "                                                        end='2023-1-1',\n",
    "                                                        periods=self.steps+1))\n",
    "    def _get_state(self):\n",
    "        St = self.data[self.symbol].iloc[self.bar]\n",
    "        ttm = (self.maturity - self.data.index[self.bar]).days / 365\n",
    "        C = bsm_call_value(St, self.strike, ttm, self.short_rate, self.volatility)\n",
    "        return np.array([St, ttm, C, self.stock, self.bond])\n",
    "    def seed(self, seed=None):\n",
    "        pass\n",
    "    def reset(self):\n",
    "        self.bar = 0\n",
    "        self.bond = 0\n",
    "        self.stock = 0\n",
    "        self.treward = 0\n",
    "        self.episode += 1\n",
    "        self._simulate_data()\n",
    "        self.state = self._get_state()\n",
    "        return self.state\n",
    "    def step(self, action):\n",
    "        if self.bar == 0:\n",
    "            reward = 0\n",
    "            self.bar += 1\n",
    "            self.stock = float(action)\n",
    "            self.bond = self.state[2] - self.stock * self.state[0]\n",
    "            self.new_state = self._get_state()\n",
    "        else:\n",
    "            self.bar += 1\n",
    "            self.new_state = self._get_state()\n",
    "            portfolio = (self.stock * self.new_state[0] +\n",
    "                         self.bond * math.exp(self.short_rate * self.dt))\n",
    "            pl = portfolio - self.new_state[2]\n",
    "            df = pd.DataFrame({'e': self.episode, 's': self.stock, 'b': self.bond,\n",
    "                               'phi': portfolio, 'V': self.new_state[2],\n",
    "                               'p&l[$]': pl, 'p&l[%]': pl / self.new_state[2] * 100,\n",
    "                               'St': self.new_state[0], 'K': self.strike,\n",
    "                               'r': self.short_rate, 'sigma': self.volatility}, index=[0])\n",
    "            self.portfolios = pd.concat((self.portfolios, df), ignore_index=True)\n",
    "            # reward = -abs(portfolio - self.new_state[2])\n",
    "            # reward = -min(abs(portfolio / self.new_state[2] - 1) * 100, 100)\n",
    "            reward = -min(abs(portfolio / self.new_state[2] - 1), 1)\n",
    "            self.stock = float(action)\n",
    "            self.bond = self.new_state[2] - self.stock * self.new_state[0]\n",
    "        if self.bar == len(self.data) - 1:\n",
    "            done = True\n",
    "        else:\n",
    "            done = False\n",
    "        info = {}\n",
    "        self.state = self.new_state\n",
    "        return self.state, float(reward), done, info"
   ]
  },
  {
   "cell_type": "markdown",
   "metadata": {
    "tags": []
   },
   "source": [
    "## The Hedging Agent"
   ]
  },
  {
   "cell_type": "code",
   "execution_count": null,
   "metadata": {},
   "outputs": [],
   "source": [
    "os.environ['TF_CPP_MIN_LOG_LEVEL'] = '3'"
   ]
  },
  {
   "cell_type": "code",
   "execution_count": null,
   "metadata": {},
   "outputs": [],
   "source": [
    "from tensorflow.python.framework.ops import disable_eager_execution\n",
    "disable_eager_execution()"
   ]
  },
  {
   "cell_type": "code",
   "execution_count": null,
   "metadata": {},
   "outputs": [],
   "source": [
    "import tensorflow as tf"
   ]
  },
  {
   "cell_type": "code",
   "execution_count": null,
   "metadata": {},
   "outputs": [],
   "source": [
    "tf.__version__"
   ]
  },
  {
   "cell_type": "code",
   "execution_count": null,
   "metadata": {},
   "outputs": [],
   "source": [
    "from tensorflow import keras\n",
    "from keras.layers import Dense\n",
    "from keras.models import Sequential\n",
    "from sklearn.metrics import accuracy_score"
   ]
  },
  {
   "cell_type": "code",
   "execution_count": null,
   "metadata": {},
   "outputs": [],
   "source": [
    "def set_seeds(seed=100):\n",
    "    random.seed(seed)\n",
    "    np.random.seed(seed)\n",
    "    tf.random.set_seed(seed)\n",
    "    env.seed(seed)\n",
    "    env.action_space.seed(100)"
   ]
  },
  {
   "cell_type": "code",
   "execution_count": null,
   "metadata": {},
   "outputs": [],
   "source": [
    "class DQLHedginAgent:\n",
    "    def __init__(self, gamma=0.95, hu=24, lr=0.001):\n",
    "        self.epsilon = 1.0\n",
    "        self.epsilon_min = 0.01\n",
    "        self.epsilon_decay = 0.995\n",
    "        self.gamma = gamma\n",
    "        self.batch_size = 32\n",
    "        self.averages = list()\n",
    "        self.memory = deque(maxlen=2000)\n",
    "        self.osn = env.observation_space.shape[0]\n",
    "        self.action_space = env.action_space\n",
    "        self.model = self._build_model(hu, lr)\n",
    "        \n",
    "    def _build_model(self, hu, lr):\n",
    "        model = Sequential()\n",
    "        model.add(Dense(hu, input_dim=self.osn,\n",
    "                        activation='relu'))\n",
    "        model.add(Dense(hu, activation='relu'))\n",
    "        model.add(Dense(hu, activation='relu'))\n",
    "        model.add(Dense(self.action_space.n, activation='linear'))\n",
    "        model.compile(loss='mse', optimizer='adam')\n",
    "        return model\n",
    "    \n",
    "    def opt_action(self, state):\n",
    "        bnds = [(0, 1)]\n",
    "        def f(state, a):\n",
    "            state[0, 3] = a\n",
    "            state[0, 4] = state[0, 2] - a * state[0, 0]\n",
    "            return self.model.predict(state)[0]\n",
    "        action = minimize(lambda a: -f(state, a), 0.5,\n",
    "                          bounds=bnds, method='Powell')['x'][0]\n",
    "        return action\n",
    "        \n",
    "    def act(self, state):\n",
    "        if random.random() <= self.epsilon:\n",
    "            return env.action_space.sample()\n",
    "        action = self.opt_action(state)\n",
    "        return action\n",
    "    \n",
    "    def replay(self):\n",
    "        batch = random.sample(self.memory, self.batch_size)\n",
    "        for state, action, reward, next_state, done in batch:\n",
    "            if not done:\n",
    "                action = self.opt_action(next_state)\n",
    "                next_state[0, 3] = action\n",
    "                next_state[0, 4] = next_state[0, 2] - action * next_state[0, 0]\n",
    "                reward += self.gamma * self.model.predict(next_state)[0]\n",
    "            reward = np.array(reward).reshape(1, -1)\n",
    "            self.model.fit(state, reward, epochs=1,\n",
    "                           verbose=False)\n",
    "        if self.epsilon > self.epsilon_min:\n",
    "            self.epsilon *= self.epsilon_decay\n",
    "    \n",
    "    def learn(self, episodes):\n",
    "        self.trewards = []\n",
    "        self.max_treward = -10000\n",
    "        for e in range(1, episodes + 1):\n",
    "            state = env.reset()\n",
    "            state = np.reshape(state, [1, self.osn])\n",
    "            treward = 0\n",
    "            for _ in range(5000):\n",
    "                action = self.act(state)\n",
    "                next_state, reward, done, info = env.step(action)\n",
    "                treward += reward\n",
    "                next_state = np.reshape(next_state,\n",
    "                                        [1, self.osn])\n",
    "                self.memory.append([state, action, reward,\n",
    "                                     next_state, done])\n",
    "                state = next_state\n",
    "                if done:\n",
    "                    self.trewards.append(treward)\n",
    "                    av = sum(self.trewards[-25:]) / 25\n",
    "                    self.averages.append(av)\n",
    "                    self.max_treward = max(self.max_treward, treward)\n",
    "                    templ = 'episode: {:4d}/{} | treward: {:7.3f} | '\n",
    "                    templ += 'av: {:6.1f} | best: {:.3f}'\n",
    "                    print(templ.format(e, episodes, treward, av,\n",
    "                                       self.max_treward), end='\\r')\n",
    "\n",
    "                    break\n",
    "            if len(self.memory) > self.batch_size:\n",
    "                self.replay()\n",
    "        print()\n",
    "    def test(self, episodes):\n",
    "        trewards = []\n",
    "        for e in range(1, episodes + 1):\n",
    "            treward = 0\n",
    "            state = env.reset()\n",
    "            for _ in range(5001):\n",
    "                state = np.reshape(state, [1, self.osn])\n",
    "                action = self.opt_action(state)  # only \"optimal\" actions are chosen (no exploration)\n",
    "                next_state, reward, done, info = env.step(action)\n",
    "                treward += reward\n",
    "                state = next_state\n",
    "                if done:\n",
    "                    trewards.append(treward)\n",
    "                    print('episode: {:4d}/{} | treward: {:.2f}'\n",
    "                          .format(e, episodes, treward), end='\\r')\n",
    "                    break\n",
    "        return trewards"
   ]
  },
  {
   "cell_type": "markdown",
   "metadata": {},
   "source": [
    "## Learning"
   ]
  },
  {
   "cell_type": "code",
   "execution_count": null,
   "metadata": {},
   "outputs": [],
   "source": [
    "env = Hedging('stock', S0=1., K_=[0.9, 0.95, 1, 1.05, 1.1],\n",
    "              T='2023-11-15', r_=[0, 0.01, 0.05],\n",
    "              sigma_=[0.1, 0.15, 0.2], steps=252) "
   ]
  },
  {
   "cell_type": "code",
   "execution_count": null,
   "metadata": {},
   "outputs": [],
   "source": [
    "# set_seeds(100)\n",
    "agent = DQLHedginAgent(gamma=0.95, hu=24, lr=0.0001)"
   ]
  },
  {
   "cell_type": "code",
   "execution_count": null,
   "metadata": {},
   "outputs": [],
   "source": [
    "episodes = 250"
   ]
  },
  {
   "cell_type": "code",
   "execution_count": null,
   "metadata": {},
   "outputs": [],
   "source": [
    "%time agent.learn(episodes)"
   ]
  },
  {
   "cell_type": "code",
   "execution_count": null,
   "metadata": {},
   "outputs": [],
   "source": [
    "agent.epsilon"
   ]
  },
  {
   "cell_type": "markdown",
   "metadata": {},
   "source": [
    "## Testing"
   ]
  },
  {
   "cell_type": "code",
   "execution_count": null,
   "metadata": {
    "scrolled": true
   },
   "outputs": [],
   "source": [
    "agent.test(3)"
   ]
  },
  {
   "cell_type": "code",
   "execution_count": null,
   "metadata": {},
   "outputs": [],
   "source": [
    "n = max(env.portfolios['e'])\n",
    "n -= 1"
   ]
  },
  {
   "cell_type": "code",
   "execution_count": null,
   "metadata": {},
   "outputs": [],
   "source": [
    "p = env.portfolios[env.portfolios['e'] == n].iloc[0][['K', 'r', 'sigma']]"
   ]
  },
  {
   "cell_type": "code",
   "execution_count": null,
   "metadata": {},
   "outputs": [],
   "source": [
    "title = f\"CALL | K={p['K']} | r={p['r']} | sigma={p['sigma']}\""
   ]
  },
  {
   "cell_type": "code",
   "execution_count": null,
   "metadata": {},
   "outputs": [],
   "source": [
    "env.portfolios[env.portfolios['e'] == n].tail().round(6)"
   ]
  },
  {
   "cell_type": "code",
   "execution_count": null,
   "metadata": {},
   "outputs": [],
   "source": [
    "env.portfolios[env.portfolios['e'] == n][['phi', 'V', 'St']].plot(\n",
    "    secondary_y='St', title=title, style=['-', '--', '-'], lw=1);\n",
    "# plt.savefig('rl_hedging_01.png')"
   ]
  },
  {
   "cell_type": "code",
   "execution_count": null,
   "metadata": {},
   "outputs": [],
   "source": [
    "env.portfolios[env.portfolios['e'] == n][['p&l[$]']].cumsum().plot(\n",
    "    lw=1, title=title);"
   ]
  },
  {
   "cell_type": "code",
   "execution_count": null,
   "metadata": {},
   "outputs": [],
   "source": [
    "env.portfolios[env.portfolios['e'] == n][['p&l[$]', 'p&l[%]']].hist(bins=30);\n",
    "# plt.savefig('rl_hedging_02.png')"
   ]
  },
  {
   "cell_type": "markdown",
   "metadata": {},
   "source": [
    "<img src='http://hilpisch.com/tpq_logo.png' width=\"35%\" align=\"right\">\n",
    "\n",
    "<br><br><a href=\"http://tpq.io\" target=\"_blank\">http://tpq.io</a> | <a href=\"http://twitter.com/dyjh\" target=\"_blank\">@dyjh</a> | <a href=\"mailto:team@tpq.io\">ai@tpq.io</a>"
   ]
  }
 ],
 "metadata": {
  "kernelspec": {
   "display_name": "Python 3 (ipykernel)",
   "language": "python",
   "name": "python3"
  },
  "language_info": {
   "codemirror_mode": {
    "name": "ipython",
    "version": 3
   },
   "file_extension": ".py",
   "mimetype": "text/x-python",
   "name": "python",
   "nbconvert_exporter": "python",
   "pygments_lexer": "ipython3",
   "version": "3.10.12"
  }
 },
 "nbformat": 4,
 "nbformat_minor": 4
}
